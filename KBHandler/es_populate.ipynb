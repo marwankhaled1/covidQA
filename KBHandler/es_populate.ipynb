{
 "cells": [
  {
   "cell_type": "code",
   "execution_count": 2,
   "metadata": {},
   "outputs": [],
   "source": [
    "import pandas as pd "
   ]
  },
  {
   "cell_type": "code",
   "execution_count": 3,
   "metadata": {},
   "outputs": [],
   "source": [
    "\n",
    "df= pd.read_csv('F:\\Edu\\covidQaBot\\dataset\\Covid-QA.csv')\n"
   ]
  },
  {
   "cell_type": "code",
   "execution_count": 4,
   "metadata": {},
   "outputs": [],
   "source": [
    "dicts=df.to_dict('records')"
   ]
  },
  {
   "cell_type": "code",
   "execution_count": 5,
   "metadata": {},
   "outputs": [
    {
     "data": {
      "text/plain": [
       "{'question': 'Should I be tested for COVID-19?',\n",
       " 'answer': 'If you develop symptoms such as fever, cough, and/or difficulty breathing, and have been in close contact with a person known to have COVID-19 or have recently traveled from an area with ongoing spread of COVID-19, stay home and call your healthcare provider. Older patients and individuals who have severe underlying medical conditions or are immunocompromised should contact their healthcare provider early, even if their illness is mild. If you have severe symptoms, such as persistent pain or pressure in the chest, new confusion or inability to arouse, or bluish lips of face, contact your healthcare provider or emergency room and seek care immediately. Your doctor will determine if you have signs and symptoms of COVID-19 and whether you should be tested.',\n",
       " 'answer_html': '<p>If you develop symptoms such as fever, cough, and/or difficulty breathing, and have been in close contact with a person known to have COVID-19 or have recently traveled from an area with <a href=\"/coronavirus/2019-ncov/about/transmission.html#geographic\">ongoing spread of COVID-19</a>, stay home and call your healthcare provider. Older patients and individuals who have severe underlying medical conditions or are immunocompromised should contact their healthcare provider early, even if their illness is mild. If you have severe symptoms, such as persistent pain or pressure in the chest, new confusion or inability to arouse, or bluish lips of face, contact your healthcare provider or emergency room and seek care immediately. Your doctor will determine if you have signs and symptoms of COVID-19 and whether you should be tested.</p> </div></div></div>',\n",
       " 'link': 'https://www.cdc.gov/coronavirus/2019-ncov/faq.html',\n",
       " 'name': 'Frequently Asked Questions',\n",
       " 'source': 'Center for Disease Control and Prevention (CDC)',\n",
       " 'category': 'Sympotms & Testing',\n",
       " 'country': 'USA',\n",
       " 'region': nan,\n",
       " 'city': nan,\n",
       " 'lang': 'en',\n",
       " 'last_update': '3/17/2020'}"
      ]
     },
     "execution_count": 5,
     "metadata": {},
     "output_type": "execute_result"
    }
   ],
   "source": [
    "dicts[20]"
   ]
  },
  {
   "cell_type": "code",
   "execution_count": 5,
   "metadata": {},
   "outputs": [
    {
     "data": {
      "text/plain": [
       "\"\\n{\\n\\n'content': 'answer'\\n'source': 'source' \\n\\n}\\n\""
      ]
     },
     "execution_count": 5,
     "metadata": {},
     "output_type": "execute_result"
    }
   ],
   "source": [
    "\"\"\"\n",
    "{\n",
    "\n",
    "'content': 'answer'\n",
    "'source': 'source' \n",
    "\n",
    "}\n",
    "\"\"\""
   ]
  },
  {
   "cell_type": "code",
   "execution_count": 6,
   "metadata": {},
   "outputs": [],
   "source": [
    "final_dicts=[]\n",
    "for each in dicts:\n",
    "    tmp={}\n",
    "    tmp['content']=each.pop('answer')\n",
    "    tmp['source']=each.pop('source')\n",
    "    final_dicts.append(tmp)"
   ]
  },
  {
   "cell_type": "code",
   "execution_count": 7,
   "metadata": {},
   "outputs": [
    {
     "data": {
      "text/plain": [
       "{'content': 'If you develop symptoms such as fever, cough, and/or difficulty breathing, and have been in close contact with a person known to have COVID-19 or have recently traveled from an area with ongoing spread of COVID-19, stay home and call your healthcare provider. Older patients and individuals who have severe underlying medical conditions or are immunocompromised should contact their healthcare provider early, even if their illness is mild. If you have severe symptoms, such as persistent pain or pressure in the chest, new confusion or inability to arouse, or bluish lips of face, contact your healthcare provider or emergency room and seek care immediately. Your doctor will determine if you have signs and symptoms of COVID-19 and whether you should be tested.',\n",
       " 'source': 'Center for Disease Control and Prevention (CDC)'}"
      ]
     },
     "execution_count": 7,
     "metadata": {},
     "output_type": "execute_result"
    }
   ],
   "source": [
    "final_dicts[20]"
   ]
  },
  {
   "cell_type": "code",
   "execution_count": 8,
   "metadata": {},
   "outputs": [
    {
     "name": "stderr",
     "output_type": "stream",
     "text": [
      "C:\\Users\\Marwan\\AppData\\Local\\Packages\\PythonSoftwareFoundation.Python.3.9_qbz5n2kfra8p0\\LocalCache\\local-packages\\Python39\\site-packages\\tqdm\\auto.py:22: TqdmWarning: IProgress not found. Please update jupyter and ipywidgets. See https://ipywidgets.readthedocs.io/en/stable/user_install.html\n",
      "  from .autonotebook import tqdm as notebook_tqdm\n",
      "INFO - haystack.document_stores.base -  Numba not found, replacing njit() with no-op implementation. Enable it with 'pip install numba'.\n",
      "INFO - haystack.modeling.model.optimization -  apex not found, won't use it. See https://nvidia.github.io/apex/\n",
      "ERROR - root -  Failed to import 'magic' (from 'python-magic' and 'python-magic-bin' on Windows). FileTypeClassifier will not perform mimetype detection on extensionless files. Please make sure the necessary OS libraries are installed if you need this functionality.\n",
      "C:\\Users\\Marwan\\AppData\\Local\\Packages\\PythonSoftwareFoundation.Python.3.9_qbz5n2kfra8p0\\LocalCache\\local-packages\\Python39\\site-packages\\elasticsearch\\connection\\base.py:190: ElasticsearchDeprecationWarning: Elasticsearch built-in security features are not enabled. Without authentication, your cluster could be accessible to anyone. See https://www.elastic.co/guide/en/elasticsearch/reference/7.17/security-minimal-setup.html to enable security.\n",
      "  warnings.warn(message, category=ElasticsearchDeprecationWarning)\n",
      "INFO - haystack.modeling.utils -  Using devices: CPU\n",
      "INFO - haystack.modeling.utils -  Number of GPUs: 0\n",
      "INFO - haystack.nodes.retriever.dense -  Init retriever using embeddings of model sentence-transformers/multi-qa-mpnet-base-dot-v1\n",
      "Downloading: 100%|██████████| 737/737 [00:00<00:00, 243kB/s]\n",
      "Downloading: 100%|██████████| 190/190 [00:00<00:00, 28.3kB/s]\n",
      "Downloading: 100%|██████████| 8.40k/8.40k [00:00<00:00, 1.74MB/s]\n",
      "Downloading: 100%|██████████| 571/571 [00:00<00:00, 143kB/s]\n",
      "Downloading: 100%|██████████| 116/116 [00:00<00:00, 15.0kB/s]\n",
      "Downloading: 100%|██████████| 25.5k/25.5k [00:00<00:00, 50.9kB/s]\n",
      "Downloading: 100%|██████████| 229/229 [00:00<00:00, 114kB/s]\n",
      "Downloading: 100%|██████████| 438M/438M [10:20<00:00, 706kB/s]  \n",
      "Downloading: 100%|██████████| 53.0/53.0 [00:00<00:00, 17.7kB/s]\n",
      "Downloading: 100%|██████████| 239/239 [00:00<00:00, 15.6kB/s]\n",
      "Downloading: 100%|██████████| 466k/466k [00:02<00:00, 204kB/s] \n",
      "Downloading: 100%|██████████| 363/363 [00:00<00:00, 23.8kB/s]\n",
      "Downloading: 100%|██████████| 13.9k/13.9k [00:00<?, ?B/s]\n",
      "Downloading: 100%|██████████| 232k/232k [00:01<00:00, 142kB/s]  \n",
      "WARNING - haystack.nodes.retriever._embedding_encoder -  You are using a Sentence Transformer with the dot_product function. We recommend using cosine instead. This can be set when initializing the DocumentStore\n",
      "INFO - haystack.document_stores.elasticsearch -  Updating embeddings for all 453 docs ...\n",
      "Batches: 100%|██████████| 15/15 [01:58<00:00,  7.91s/it]Docs/s]\n",
      "Updating embeddings: 10000 Docs [02:07, 78.50 Docs/s]          \n"
     ]
    }
   ],
   "source": [
    "from haystack.document_stores import ElasticsearchDocumentStore\n",
    "\n",
    "\n",
    "\n",
    "# add\n",
    "\n",
    "from haystack.document_stores import ElasticsearchDocumentStore\n",
    "from haystack.nodes import EmbeddingRetriever\n",
    "from haystack.pipelines import ExtractiveQAPipeline\n",
    "\n",
    "document_store = ElasticsearchDocumentStore(\n",
    "    similarity=\"dot_product\",\n",
    "    embedding_dim=768\n",
    ")\n",
    "retriever = EmbeddingRetriever(\n",
    "    document_store=document_store,\n",
    "   embedding_model=\"sentence-transformers/multi-qa-mpnet-base-dot-v1\",\n",
    "   model_format=\"sentence_transformers\"\n",
    ")\n",
    "document_store.update_embeddings(retriever)\n"
   ]
  },
  {
   "cell_type": "code",
   "execution_count": 9,
   "metadata": {},
   "outputs": [
    {
     "name": "stderr",
     "output_type": "stream",
     "text": [
      "C:\\Users\\Marwan\\AppData\\Local\\Packages\\PythonSoftwareFoundation.Python.3.9_qbz5n2kfra8p0\\LocalCache\\local-packages\\Python39\\site-packages\\elasticsearch\\connection\\base.py:190: ElasticsearchDeprecationWarning: Elasticsearch built-in security features are not enabled. Without authentication, your cluster could be accessible to anyone. See https://www.elastic.co/guide/en/elasticsearch/reference/7.17/security-minimal-setup.html to enable security.\n",
      "  warnings.warn(message, category=ElasticsearchDeprecationWarning)\n"
     ]
    }
   ],
   "source": [
    "document_store=ElasticsearchDocumentStore(host=\"localhost\",username=\"\",password=\"\",index=\"document\")"
   ]
  },
  {
   "cell_type": "code",
   "execution_count": null,
   "metadata": {},
   "outputs": [],
   "source": [
    "document_store.write_documents(final_dicts)"
   ]
  },
  {
   "cell_type": "code",
   "execution_count": 68,
   "metadata": {},
   "outputs": [
    {
     "name": "stderr",
     "output_type": "stream",
     "text": [
      "INFO - haystack.modeling.utils -  Using devices: CPU\n",
      "INFO - haystack.modeling.utils -  Number of GPUs: 0\n",
      "INFO - haystack.nodes.retriever.dense -  Init retriever using embeddings of model sentence-transformers/multi-qa-mpnet-base-dot-v1\n",
      "WARNING - haystack.nodes.retriever._embedding_encoder -  You are using a Sentence Transformer with the dot_product function. We recommend using cosine instead. This can be set when initializing the DocumentStore\n",
      "INFO - haystack.document_stores.elasticsearch -  Updating embeddings for all 453 docs ...\n",
      "Batches: 100%|██████████| 15/15 [02:20<00:00,  9.38s/it]Docs/s]\n",
      "Updating embeddings: 10000 Docs [02:29, 66.98 Docs/s]          \n"
     ]
    }
   ],
   "source": [
    "#from haystack.nodes import BM25Retriever\n",
    "#retriever = BM25Retriever(document_store=document_store)\n",
    "\n",
    "### not use now \n",
    "#from haystack.nodes import TfidfRetriever\n",
    "#retriever= TfidfRetriever(document_store=document_store)\n",
    "\n",
    "from haystack.nodes import EmbeddingRetriever\n",
    "\n",
    "document_store = ElasticsearchDocumentStore(similarity=\"dot_product\",embedding_dim=768)\n",
    "retriever = EmbeddingRetriever(\n",
    "document_store=document_store,embedding_model=\"sentence-transformers/multi-qa-mpnet-base-dot-v1\",model_format=\"sentence_transformers\")\n",
    "document_store.update_embeddings(retriever)\n",
    "\n"
   ]
  },
  {
   "cell_type": "code",
   "execution_count": 69,
   "metadata": {},
   "outputs": [
    {
     "name": "stderr",
     "output_type": "stream",
     "text": [
      "INFO - haystack.modeling.utils -  Using devices: CPU\n",
      "INFO - haystack.modeling.utils -  Number of GPUs: 0\n",
      "INFO - haystack.modeling.model.language_model -  LOADING MODEL\n",
      "INFO - haystack.modeling.model.language_model -  =============\n",
      "INFO - haystack.modeling.model.language_model -  Model found locally at F:\\Edu\\covidQaBot\\modelrobert9\n",
      "INFO - haystack.modeling.model.language_model -  Loaded F:\\Edu\\covidQaBot\\modelrobert9\n",
      "INFO - haystack.modeling.model.adaptive_model -  Found files for loading 1 prediction heads\n",
      "WARNING - haystack.modeling.model.prediction_head -  Some unused parameters are passed to the QuestionAnsweringHead. Might not be a problem. Params: {\"training\": false, \"num_labels\": 2, \"ph_output_type\": \"per_token_squad\", \"model_type\": \"span_classification\", \"label_tensor_name\": \"question_answering_label_ids\", \"label_list\": [\"start_token\", \"end_token\"], \"metric\": \"squad\", \"name\": \"QuestionAnsweringHead\"}\n",
      "INFO - haystack.modeling.model.prediction_head -  Loading prediction head from F:\\Edu\\covidQaBot\\modelrobert9\\prediction_head_0.bin\n",
      "INFO - haystack.modeling.data_handler.processor -  Initialized processor without tasks. Supply `metric` and `label_list` to the constructor for using the default task or add a custom task later via processor.add_task()\n",
      "INFO - haystack.modeling.utils -  Using devices: CPU\n",
      "INFO - haystack.modeling.utils -  Number of GPUs: 0\n",
      "INFO - haystack.modeling.infer -  Got ya 7 parallel workers to do inference ...\n",
      "INFO - haystack.modeling.infer -   0     0     0     0     0     0     0  \n",
      "INFO - haystack.modeling.infer -  /w\\   /w\\   /w\\   /w\\   /w\\   /w\\   /w\\ \n",
      "INFO - haystack.modeling.infer -  /'\\   / \\   /'\\   /'\\   / \\   / \\   /'\\ \n"
     ]
    }
   ],
   "source": [
    "from haystack.nodes import FARMReader\n",
    "#model without training\n",
    "#reader=FARMReader(model_name_or_path=\"deepset/roberta-base-squad2\",  use_gpu=-True)\n",
    "reader=FARMReader(model_name_or_path=\"F:\\Edu\\covidQaBot\\modelrobert9\",  use_gpu=-True)"
   ]
  },
  {
   "cell_type": "code",
   "execution_count": 74,
   "metadata": {},
   "outputs": [],
   "source": [
    "from haystack.pipelines import ExtractiveQAPipeline\n",
    "pipe =ExtractiveQAPipeline(reader, retriever)\n"
   ]
  },
  {
   "cell_type": "code",
   "execution_count": 78,
   "metadata": {},
   "outputs": [
    {
     "name": "stderr",
     "output_type": "stream",
     "text": [
      "Batches: 100%|██████████| 1/1 [00:00<00:00, 13.89it/s]\n",
      "Inferencing Samples: 100%|██████████| 1/1 [00:00<00:00,  2.37 Batches/s]\n",
      "Inferencing Samples: 100%|██████████| 1/1 [00:00<00:00,  2.34 Batches/s]\n",
      "Inferencing Samples: 100%|██████████| 1/1 [00:00<00:00,  2.34 Batches/s]\n",
      "Inferencing Samples: 100%|██████████| 1/1 [00:00<00:00,  2.19 Batches/s]\n",
      "Inferencing Samples: 100%|██████████| 1/1 [00:00<00:00,  2.41 Batches/s]\n",
      "Inferencing Samples: 100%|██████████| 1/1 [00:00<00:00,  2.28 Batches/s]\n",
      "Inferencing Samples: 100%|██████████| 1/1 [00:00<00:00,  2.33 Batches/s]\n",
      "Inferencing Samples: 100%|██████████| 1/1 [00:00<00:00,  2.20 Batches/s]\n",
      "Inferencing Samples: 100%|██████████| 1/1 [00:00<00:00,  1.10 Batches/s]\n",
      "Inferencing Samples: 100%|██████████| 1/1 [00:00<00:00,  1.12 Batches/s]\n"
     ]
    }
   ],
   "source": [
    "prediction = pipe.run(query=\"what is covid ?\", params={\"Retriever\": {\"top_k\": 10}})\n",
    "\n"
   ]
  },
  {
   "cell_type": "code",
   "execution_count": 79,
   "metadata": {},
   "outputs": [
    {
     "name": "stdout",
     "output_type": "stream",
     "text": [
      "{'answers': [<Answer {'answer': 'a new disease, caused by a novel (or new) covid not previously seen in humans', 'type': 'extractive', 'score': 0.18174592405557632, 'context': ' viruses; there are many.,  covid is a new disease, caused by a novel (or new) covid not previously seen in humans., covid disease 2019 (covid) is a r', 'offsets_in_document': [{'start': 222, 'end': 299}], 'offsets_in_context': [{'start': 37, 'end': 114}], 'document_id': '94bab197acaf59d7d87f08fa22bd62da', 'meta': {'source': 'Quora'}}>,\n",
      "             <Answer {'answer': 'spherical, enveloped, and the largest of positive strand rna v', 'type': 'extractive', 'score': 0.061084356158971786, 'context': 'mmonly circulate among humans and cause mild illness, like the common cold., covids are spherical, enveloped, and the largest of positive strand rna v', 'offsets_in_document': [{'start': 241, 'end': 303}], 'offsets_in_context': [{'start': 88, 'end': 150}], 'document_id': '312efc17fb294953617c25346f8df5ce', 'meta': {'source': 'Author Generated'}}>,\n",
      "             <Answer {'answer': 'covides are a large family of viruses', 'type': 'extractive', 'score': 0.001997218409087509, 'context': 'yes. covides are a large family of viruses. some covides like covid cause cold like illnesses in people, while others cause illness in certain types o', 'offsets_in_document': [{'start': 5, 'end': 42}], 'offsets_in_context': [{'start': 5, 'end': 42}], 'document_id': 'c793284bfcee0c9fe2ac7321be8faa18', 'meta': {'source': 'Food and Drug Administration'}}>,\n",
      "             <Answer {'answer': 'the infectious disease caused by the most recently discovered coronavirus', 'type': 'extractive', 'score': 0.00041286984924227, 'context': 'COVID-19 is the infectious disease caused by the most recently discovered coronavirus. This new virus and disease were unknown before the outbreak beg', 'offsets_in_document': [{'start': 12, 'end': 85}], 'offsets_in_context': [{'start': 12, 'end': 85}], 'document_id': '922329a3631ab857428e552612ece02f', 'meta': {'source': 'World Health Organization (WHO)'}}>,\n",
      "             <Answer {'answer': 'the covid is undoubtedly distinct from sl shc014 ma15, with >6,000 nucleotide differences across the whole genome.', 'type': 'extractive', 'score': 0.0003459108993411064, 'context': 'iple international groups [5, 14] , the covid is undoubtedly distinct from sl shc014 ma15, with >6,000 nucleotide differences across the whole genome.', 'offsets_in_document': [{'start': 78, 'end': 192}], 'offsets_in_context': [{'start': 36, 'end': 150}], 'document_id': 'd8a0a1954ceb6217ca775ec268c4fee6', 'meta': {'source': 'GitHub.com/deepset-ai/COVID-QA'}}>,\n",
      "             <Answer {'answer': 'Coronaviruses', 'type': 'extractive', 'score': 9.216423495672643e-05, 'context': 'Coronaviruses are a large group of viruses that are common among animals and humans. This novel coronavirus that causes COVID-19 is a newly discovered', 'offsets_in_document': [{'start': 0, 'end': 13}], 'offsets_in_context': [{'start': 0, 'end': 13}], 'document_id': '38f029219adc47d631170bae401bc232', 'meta': {'source': 'California Department of Public Health'}}>,\n",
      "             <Answer {'answer': 'the new covid is different from these, and was only identified in december 2019.', 'type': 'extractive', 'score': 4.001683646492893e-05, 'context': 'the new covid is different from these, and was only identified in december 2019.', 'offsets_in_document': [{'start': 0, 'end': 80}], 'offsets_in_context': [{'start': 0, 'end': 80}], 'document_id': '26e0702f566a460d9d31ad7c7c1d026f', 'meta': {'source': 'Quora'}}>,\n",
      "             <Answer {'answer': 'not everyone needs to be tested for covid.', 'type': 'extractive', 'score': 1.3417386071523651e-05, 'context': 'not everyone needs to be tested for covid.', 'offsets_in_document': [{'start': 0, 'end': 42}], 'offsets_in_context': [{'start': 0, 'end': 42}], 'document_id': '5e3a20130224ac7f12dafc3d02e989ee', 'meta': {'source': 'Author Generated'}}>,\n",
      "             <Answer {'answer': 'COVID-19 is a new disease, caused be a novel (or new) coronavirus that has not previously been seen in humans', 'type': 'extractive', 'score': 1.3081919405522058e-05, 'context': 'ory tract illnesses. COVID-19 is a new disease, caused be a novel (or new) coronavirus that has not previously been seen in humans. The name of this d', 'offsets_in_document': [{'start': 543, 'end': 652}], 'offsets_in_context': [{'start': 21, 'end': 130}], 'document_id': '1d20a47ef8787c5441a7ae4acff1ea51', 'meta': {'source': 'Center for Disease Control and Prevention (CDC)'}}>,\n",
      "             <Answer {'answer': 'betacovid', 'type': 'extractive', 'score': 2.285528125867131e-06, 'context': 'betacovid', 'offsets_in_document': [{'start': 0, 'end': 9}], 'offsets_in_context': [{'start': 0, 'end': 9}], 'document_id': '5cbcad48e62aa69fbe5b6f756c3059d2', 'meta': {'source': 'GitHub.com/deepset-ai/COVID-QA'}}>],\n",
      " 'documents': [<Document: {'content': 'corona means crown, and covides have a crown of protruding points on their surface that give them a characteristic appearance when seen under a microscope. covides are a whole family of viruses; there are many.,  covid is a new disease, caused by a novel (or new) covid not previously seen in humans., covid disease 2019 (covid) is a respiratory illness that can spread from person to person. , the new name of this disease is covid disease 2019, abbreviated as covid. in covid, co stands for corona, vi for virus, and d for disease. formerly, this disease was referred to as 2019 novel covid or 2019 ncov. ,  as covid disease discovered in 2019 (covid), severe acute respiratory syndrome covid 2 , covid is the infectious disease caused by the most recently discovered covid. this new virus and disease were unknown before the outbreak began in wuhan, china, in december 201', 'content_type': 'text', 'score': 0.5644718296793405, 'meta': {'source': 'Quora'}, 'embedding': None, 'id': '94bab197acaf59d7d87f08fa22bd62da'}>,\n",
      "               <Document: {'content': 'a novel covid is a new covid that has not been previously identifed. the virus causing covid disease 2019 (covid), is not the same as the covides that commonly circulate among humans and cause mild illness, like the common cold., covids are spherical, enveloped, and the largest of positive strand rna v', 'content_type': 'text', 'score': 0.5628042890155223, 'meta': {'source': 'Author Generated'}, 'embedding': None, 'id': '312efc17fb294953617c25346f8df5ce'}>,\n",
      "               <Document: {'content': 'betacovid', 'content_type': 'text', 'score': 0.5618821026655737, 'meta': {'source': 'GitHub.com/deepset-ai/COVID-QA'}, 'embedding': None, 'id': '5cbcad48e62aa69fbe5b6f756c3059d2'}>,\n",
      "               <Document: {'content': 'the new covid is different from these, and was only identified in december 2019.', 'content_type': 'text', 'score': 0.561637886453362, 'meta': {'source': 'Quora'}, 'embedding': None, 'id': '26e0702f566a460d9d31ad7c7c1d026f'}>,\n",
      "               <Document: {'content': 'COVID-19 is the infectious disease caused by the most recently discovered coronavirus. This new virus and disease were unknown before the outbreak began in Wuhan, China, in December 2019.', 'content_type': 'text', 'score': 0.5614744024564551, 'meta': {'source': 'World Health Organization (WHO)'}, 'embedding': None, 'id': '922329a3631ab857428e552612ece02f'}>,\n",
      "               <Document: {'content': 'yes. covides are a large family of viruses. some covides like covid cause cold like illnesses in people, while others cause illness in certain types of animals, such as cattle, camels, and bats. some covides, such as canine and feline covides, only infect animals and do not infect humans. ', 'content_type': 'text', 'score': 0.5589956618260551, 'meta': {'source': 'Food and Drug Administration'}, 'embedding': None, 'id': 'c793284bfcee0c9fe2ac7321be8faa18'}>,\n",
      "               <Document: {'content': 'not everyone needs to be tested for covid.', 'content_type': 'text', 'score': 0.5587195417569344, 'meta': {'source': 'Author Generated'}, 'embedding': None, 'id': '5e3a20130224ac7f12dafc3d02e989ee'}>,\n",
      "               <Document: {'content': 'On February 11, 2020 the World Health Organization announced an official name for the disease that is causing the 2019 novel coronavirus outbreak, first identified in Wuhan China. The new name of this disease is coronavirus disease 2019, abbreviated as COVID-19. In COVID-19, ‘CO’ stands for ‘corona,’ ‘VI’ for ‘virus,’ and ‘D’ for disease. Formerly, this disease was referred to as “2019 novel coronavirus” or “2019-nCoV”. There are many types of human coronaviruses including some that commonly cause mild upper-respiratory tract illnesses. COVID-19 is a new disease, caused be a novel (or new) coronavirus that has not previously been seen in humans. The name of this disease was selected following the World Health Organization (WHO) best practiceexternal icon for naming of new human infectious diseases.', 'content_type': 'text', 'score': 0.5584601530374305, 'meta': {'source': 'Center for Disease Control and Prevention (CDC)'}, 'embedding': None, 'id': '1d20a47ef8787c5441a7ae4acff1ea51'}>,\n",
      "               <Document: {'content': 'upon careful phylogenetic analyses by multiple international groups [5, 14] , the covid is undoubtedly distinct from sl shc014 ma15, with >6,000 nucleotide differences across the whole genome.', 'content_type': 'text', 'score': 0.558310718807252, 'meta': {'source': 'GitHub.com/deepset-ai/COVID-QA'}, 'embedding': None, 'id': 'd8a0a1954ceb6217ca775ec268c4fee6'}>,\n",
      "               <Document: {'content': 'Coronaviruses are a large group of viruses that are common among animals and humans. This novel coronavirus that causes COVID-19 is a newly discovered coronavirus that has not been previously detected in animals or humans. The source of this virus is not yet known.', 'content_type': 'text', 'score': 0.5564826323247961, 'meta': {'source': 'California Department of Public Health'}, 'embedding': None, 'id': '38f029219adc47d631170bae401bc232'}>],\n",
      " 'no_ans_gap': 3.859440326690674,\n",
      " 'node_id': 'Reader',\n",
      " 'params': {'Retriever': {'top_k': 10}},\n",
      " 'query': 'what is covid ?',\n",
      " 'root_node': 'Query'}\n"
     ]
    }
   ],
   "source": [
    "from pprint import pprint\n",
    "\n",
    "pprint(prediction)\n",
    "\n",
    "\n"
   ]
  },
  {
   "cell_type": "code",
   "execution_count": null,
   "metadata": {},
   "outputs": [],
   "source": []
  }
 ],
 "metadata": {
  "interpreter": {
   "hash": "a64659ad764320ee9f87a1afaaeec0ae65b6c1129b32b6906c12cdd4b5ab4ff4"
  },
  "kernelspec": {
   "display_name": "Python 3.9.13 64-bit (windows store)",
   "language": "python",
   "name": "python3"
  },
  "language_info": {
   "codemirror_mode": {
    "name": "ipython",
    "version": 3
   },
   "file_extension": ".py",
   "mimetype": "text/x-python",
   "name": "python",
   "nbconvert_exporter": "python",
   "pygments_lexer": "ipython3",
   "version": "3.9.13"
  },
  "orig_nbformat": 4
 },
 "nbformat": 4,
 "nbformat_minor": 2
}
